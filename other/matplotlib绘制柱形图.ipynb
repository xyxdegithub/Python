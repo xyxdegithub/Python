{
 "cells": [
  {
   "cell_type": "code",
   "execution_count": 1,
   "id": "99f46ebf",
   "metadata": {},
   "outputs": [],
   "source": [
    "import matplotlib.pyplot as plt\n",
    "import numpy as np"
   ]
  },
  {
   "cell_type": "code",
   "execution_count": 2,
   "id": "c5485cb4",
   "metadata": {},
   "outputs": [],
   "source": [
    "#设置黑体为默认字体\n",
    "plt.rcParams[\"font.sans-serif\"] = \"SimHei\"\n",
    "#设置正常显示负号\n",
    "plt.rcParams[\"axes.unicode_minus\"] = False"
   ]
  },
  {
   "cell_type": "code",
   "execution_count": 3,
   "id": "02c3d79b",
   "metadata": {},
   "outputs": [],
   "source": [
    "y1=[20,18,10,2,100,59,39,67,22,88]\n",
    "\n",
    "y2=[-10,-3,-39,-45,-88,-20,-100,-70,-56,-77]\n"
   ]
  },
  {
   "cell_type": "code",
   "execution_count": 4,
   "id": "3ee5011e",
   "metadata": {},
   "outputs": [
    {
     "data": {
      "text/plain": "Text(0.5, 1.0, '柱形图')"
     },
     "execution_count": 4,
     "metadata": {},
     "output_type": "execute_result"
    },
    {
     "data": {
      "text/plain": "<Figure size 432x288 with 1 Axes>",
      "image/png": "[encoded data removed]"
     },
     "metadata": {
      "needs_background": "light"
     },
     "output_type": "display_data"
    }
   ],
   "source": [
    "plt.bar(range(len(y1)),\n",
    "        y1,\n",
    "        width=1,\n",
    "        facecolor=\"red\",\n",
    "        edgecolor=\"white\",\n",
    "        label=\"y1\")\n",
    "plt.bar(range(len(y2)),\n",
    "        y2,\n",
    "        width=1,\n",
    "        facecolor=\"black\",\n",
    "        edgecolor=\"white\",\n",
    "        label=\"y2\")\n",
    "plt.legend()\n",
    "plt.title(\"柱形图\",fontsize=30)\n"
   ]
  },
  {
   "cell_type": "code",
   "execution_count": null,
   "id": "2319a5c1",
   "metadata": {},
   "outputs": [],
   "source": []
  }
 ],
 "metadata": {
  "kernelspec": {
   "display_name": "Python 3",
   "language": "python",
   "name": "python3"
  },
  "language_info": {
   "codemirror_mode": {
    "name": "ipython",
    "version": 3
   },
   "file_extension": ".py",
   "mimetype": "text/x-python",
   "name": "python",
   "nbconvert_exporter": "python",
   "pygments_lexer": "ipython3",
   "version": "3.8.8"
  }
 },
 "nbformat": 4,
 "nbformat_minor": 5
}